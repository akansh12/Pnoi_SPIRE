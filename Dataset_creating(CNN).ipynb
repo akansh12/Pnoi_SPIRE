{
 "cells": [
  {
   "cell_type": "code",
   "execution_count": 1,
   "metadata": {},
   "outputs": [],
   "source": [
    "import os\n",
    "import pandas as pd\n",
    "import numpy as np"
   ]
  },
  {
   "cell_type": "code",
   "execution_count": 2,
   "metadata": {},
   "outputs": [
    {
     "name": "stderr",
     "output_type": "stream",
     "text": [
      "/home/akansh/anaconda3/lib/python3.7/site-packages/torchaudio/backend/utils.py:54: UserWarning: \"sox\" backend is being deprecated. The default backend will be changed to \"sox_io\" backend in 0.8.0 and \"sox\" backend will be removed in 0.9.0. Please migrate to \"sox_io\" backend. Please refer to https://github.com/pytorch/audio/issues/903 for the detail.\n",
      "  '\"sox\" backend is being deprecated. '\n"
     ]
    }
   ],
   "source": [
    "import torchaudio"
   ]
  },
  {
   "cell_type": "code",
   "execution_count": 3,
   "metadata": {},
   "outputs": [],
   "source": [
    "from tqdm import tqdm"
   ]
  },
  {
   "cell_type": "code",
   "execution_count": 4,
   "metadata": {},
   "outputs": [],
   "source": [
    "import matplotlib.pyplot as plt"
   ]
  },
  {
   "cell_type": "code",
   "execution_count": 5,
   "metadata": {},
   "outputs": [],
   "source": [
    "import librosa\n",
    "import librosa.display"
   ]
  },
  {
   "cell_type": "code",
   "execution_count": 6,
   "metadata": {},
   "outputs": [],
   "source": [
    "# os.makedirs('Spectrogram(Sets)')"
   ]
  },
  {
   "cell_type": "markdown",
   "metadata": {},
   "source": [
    "### Slicing the audio"
   ]
  },
  {
   "cell_type": "code",
   "execution_count": null,
   "metadata": {},
   "outputs": [],
   "source": [
    "def labels_eko(wav_file_name):\n",
    "    k = wav_file_name\n",
    "    b = k.split('_')\n",
    "    b[1] = 'Label'\n",
    "    separator = '_'\n",
    "    return separator.join(b)[:-3] +'txt'"
   ]
  },
  {
   "cell_type": "markdown",
   "metadata": {},
   "source": [
    "### Eko"
   ]
  },
  {
   "cell_type": "code",
   "execution_count": null,
   "metadata": {},
   "outputs": [],
   "source": [
    "set_loc = \"./Sets/\"\n",
    "data_loc = \"./\"\n",
    "new_sample_rate = 16000\n",
    "channel = 0\n",
    "os.makedirs('./Sliced_eko(Sets)')\n",
    "for i in os.listdir(set_loc):\n",
    "    os.makedirs(\"./Sliced_eko(Sets)/\"+i[:-4])\n",
    "    os.makedirs(\"./Sliced_eko(Sets)/\"+i[:-4]+'/Asthma')\n",
    "    os.makedirs(\"./Sliced_eko(Sets)/\"+i[:-4]+'/Normal')\n",
    "    set_full = np.loadtxt(set_loc + i, dtype=str)\n",
    "    for j in tqdm(set_full):\n",
    "        for k in os.listdir(data_loc+j+'/Eko'):\n",
    "            waveform_eko, sample_rate = torchaudio.load(data_loc+j+'/Eko/'+k)\n",
    "            txt_file = pd.read_csv(data_loc+j+'/labels/'+labels_eko(k), sep=\"\\t\", header = None)\n",
    "            labels = txt_file.iloc[:,2]\n",
    "            start = txt_file.iloc[:,0]\n",
    "            stop = txt_file.iloc[:,1]\n",
    "            \n",
    "            for l,m in enumerate(labels):\n",
    "                if m.find('nnotat') != -1:\n",
    "                    A = waveform_eko[:,int(round(start[l]*sample_rate)):int(round(stop[l]*sample_rate))]\n",
    "                    if j.find(\"sthma\") != -1:\n",
    "                        torchaudio.save(\"./Sliced_eko(Sets)/\"+i[:-4]+'/Asthma/'+k[:-4]+'_'+ str(l)+'.wav', A, sample_rate)\n",
    "                    else:\n",
    "                        torchaudio.save(\"./Sliced_eko(Sets)/\"+i[:-4]+'/Normal/'+k[:-4]+'_'+ str(l)+'.wav', A, sample_rate)\n",
    "                        \n",
    "                    "
   ]
  },
  {
   "cell_type": "code",
   "execution_count": null,
   "metadata": {},
   "outputs": [],
   "source": [
    "2269+2574"
   ]
  },
  {
   "cell_type": "markdown",
   "metadata": {},
   "source": [
    "### Mic"
   ]
  },
  {
   "cell_type": "code",
   "execution_count": null,
   "metadata": {},
   "outputs": [],
   "source": [
    "set_loc = \"./Sets/\"\n",
    "data_loc = \"./\"\n",
    "new_sample_rate = 16000\n",
    "channel = 0\n",
    "os.makedirs('./Sliced_mic(Sets)')\n",
    "for i in os.listdir(set_loc):\n",
    "    os.makedirs(\"./Sliced_mic(Sets)/\"+i[:-4])\n",
    "    os.makedirs(\"./Sliced_mic(Sets)/\"+i[:-4]+'/Asthma')\n",
    "    os.makedirs(\"./Sliced_mic(Sets)/\"+i[:-4]+'/Normal')\n",
    "    set_full = np.loadtxt(set_loc + i, dtype=str)\n",
    "    for j in tqdm(set_full):\n",
    "        for k in os.listdir(data_loc+j+'/Mic'):\n",
    "            waveform_mic, sample_rate = torchaudio.load(data_loc+j+'/Mic/'+k)\n",
    "            waveform_mic = torchaudio.transforms.Resample(sample_rate, new_sample_rate)(waveform_mic[channel,:].view(1,-1))\n",
    "            sample_rate = new_sample_rate\n",
    "            txt_file = pd.read_csv(data_loc+j+'/labels/'+labels_eko(k), sep=\"\\t\", header = None)\n",
    "            labels = txt_file.iloc[:,2]\n",
    "            start = txt_file.iloc[:,0]\n",
    "            stop = txt_file.iloc[:,1]\n",
    "            \n",
    "            for l,m in enumerate(labels):\n",
    "                if m.find('nnotat') != -1:\n",
    "                    A = waveform_mic[:,int(round(start[l]*sample_rate)):int(round(stop[l]*sample_rate))]\n",
    "                    if j.find(\"sthma\") != -1:\n",
    "                        torchaudio.save(\"./Sliced_mic(Sets)/\"+i[:-4]+'/Asthma/'+k[:-4]+'_'+ str(l)+'.wav', A, sample_rate)\n",
    "                    else:\n",
    "                        torchaudio.save(\"./Sliced_mic(Sets)/\"+i[:-4]+'/Normal/'+k[:-4]+'_'+ str(l)+'.wav', A, sample_rate)\n",
    "                        \n",
    "                    "
   ]
  },
  {
   "cell_type": "markdown",
   "metadata": {},
   "source": [
    "### Creating Spectrogram"
   ]
  },
  {
   "cell_type": "code",
   "execution_count": null,
   "metadata": {},
   "outputs": [],
   "source": []
  },
  {
   "cell_type": "code",
   "execution_count": null,
   "metadata": {},
   "outputs": [],
   "source": [
    "\n",
    "    \n",
    "    \n",
    "    \n",
    "    "
   ]
  },
  {
   "cell_type": "code",
   "execution_count": 6,
   "metadata": {},
   "outputs": [
    {
     "name": "stderr",
     "output_type": "stream",
     "text": [
      "100%|██████████| 289/289 [00:39<00:00,  7.24it/s]\n",
      "100%|██████████| 293/293 [00:43<00:00,  6.64it/s]\n"
     ]
    }
   ],
   "source": [
    "for i in os.listdir(\"./Sliced_mic(Sets)/\"):\n",
    "    try: \n",
    "        os.makedirs(\"./Sliced_mic(Sets)/\"+i+'/Spectrogram')\n",
    "        os.makedirs(\"./Sliced_mic(Sets)/\"+i+'/Spectrogram/'+'Normal')\n",
    "        os.makedirs(\"./Sliced_mic(Sets)/\"+i+'/Spectrogram/'+'Asthma')\n",
    "\n",
    "        for k in tqdm(os.listdir(\"./Sliced_mic(Sets)/\"+i+'/Asthma')):\n",
    "            waveform, sr = librosa.load(\"./Sliced_mic(Sets)/\"+i+'/Asthma/'+k, sr = None)\n",
    "            n_fft = int(20*sr*(2*10**-3))\n",
    "            window = int(n_fft/2)\n",
    "            hop_length = int(window/2)\n",
    "            D = librosa.amplitude_to_db(np.abs(librosa.stft(waveform, n_fft = n_fft,win_length = window, hop_length = hop_length)))\n",
    "            # Plotting the spectrogram and save as JPG without axes (just the image)\n",
    "            fig = plt.figure(figsize=[1,1])\n",
    "            ax = fig.add_subplot(111)\n",
    "            ax.axes.get_xaxis().set_visible(False)\n",
    "            ax.axes.get_yaxis().set_visible(False)\n",
    "            ax.set_frame_on(False)\n",
    "            librosa.display.specshow(D,x_axis='time', y_axis='hz')\n",
    "            plt.savefig(\"./Sliced_mic(Sets)/\"+i+'/Spectrogram/'+'Asthma/'+k[:-4]+'.jpg',dpi=400,bbox_inches = 'tight', frameon='false', pad_inches=0)\n",
    "            plt.close()\n",
    "\n",
    "        for k in tqdm(os.listdir(\"./Sliced_mic(Sets)/\"+i+'/Normal')):\n",
    "            waveform, sr = librosa.load(\"./Sliced_mic(Sets)/\"+i+'/Normal/'+k, sr = None)\n",
    "            n_fft = int(20*sr*(2*10**-3))\n",
    "            window = int(n_fft/2)\n",
    "            hop_length = int(window/2)\n",
    "            D = librosa.amplitude_to_db(np.abs(librosa.stft(waveform, n_fft = n_fft,win_length = window, hop_length = hop_length)))\n",
    "            # Plotting the spectrogram and save as JPG without axes (just the image)\n",
    "            fig = plt.figure(figsize=[1,1])\n",
    "            ax = fig.add_subplot(111)\n",
    "            ax.axes.get_xaxis().set_visible(False)\n",
    "            ax.axes.get_yaxis().set_visible(False)\n",
    "            ax.set_frame_on(False)\n",
    "            librosa.display.specshow(D,x_axis='time', y_axis='hz')\n",
    "            plt.savefig(\"./Sliced_mic(Sets)/\"+i+'/Spectrogram/'+'Normal/'+k[:-4]+'.jpg',dpi=400,bbox_inches = 'tight', frameon='false', pad_inches=0)\n",
    "            plt.close()\n",
    "    except:\n",
    "        pass\n",
    "\n",
    "        \n"
   ]
  },
  {
   "cell_type": "code",
   "execution_count": null,
   "metadata": {},
   "outputs": [
    {
     "name": "stderr",
     "output_type": "stream",
     "text": [
      "100%|██████████| 267/267 [00:20<00:00, 13.65it/s]\n",
      "100%|██████████| 402/402 [00:22<00:00, 17.95it/s]\n",
      "100%|██████████| 327/327 [00:17<00:00, 23.91it/s]\n",
      "100%|██████████| 517/517 [00:26<00:00, 23.77it/s]\n",
      "100%|██████████| 258/258 [00:14<00:00, 17.56it/s]\n",
      "100%|██████████| 441/441 [00:23<00:00, 18.43it/s]\n",
      "100%|██████████| 304/304 [00:21<00:00, 13.77it/s]\n",
      "100%|██████████| 208/208 [00:16<00:00, 12.82it/s]\n",
      "100%|██████████| 289/289 [00:26<00:00, 10.80it/s]\n",
      "100%|██████████| 293/293 [00:33<00:00,  8.84it/s]\n",
      "100%|██████████| 399/399 [01:50<00:00,  3.61it/s]\n",
      "100%|██████████| 335/335 [00:36<00:00, 11.48it/s]\n",
      "100%|██████████| 425/425 [01:19<00:00,  5.34it/s]\n",
      " 37%|███▋      | 141/378 [00:39<01:01,  3.84it/s]"
     ]
    }
   ],
   "source": [
    "for i in os.listdir(\"./Sliced_eko(Sets)/\"):\n",
    "    try: \n",
    "        os.makedirs(\"./Sliced_eko(Sets)/\"+i+'/Spectrogram')\n",
    "        os.makedirs(\"./Sliced_eko(Sets)/\"+i+'/Spectrogram/'+'Normal')\n",
    "        os.makedirs(\"./Sliced_eko(Sets)/\"+i+'/Spectrogram/'+'Asthma')\n",
    "\n",
    "        for k in tqdm(os.listdir(\"./Sliced_eko(Sets)/\"+i+'/Asthma')):\n",
    "            waveform, sr = librosa.load(\"./Sliced_eko(Sets)/\"+i+'/Asthma/'+k, sr = None)\n",
    "            n_fft = int(20*sr*(2*10**-3))\n",
    "            window = int(n_fft/2)\n",
    "            hop_length = int(window/2)\n",
    "            D = librosa.amplitude_to_db(np.abs(librosa.stft(waveform, n_fft = n_fft,win_length = window, hop_length = hop_length)))\n",
    "            # Plotting the spectrogram and save as JPG without axes (just the image)\n",
    "            fig = plt.figure(figsize=[1,1])\n",
    "            ax = fig.add_subplot(111)\n",
    "            ax.axes.get_xaxis().set_visible(False)\n",
    "            ax.axes.get_yaxis().set_visible(False)\n",
    "            ax.set_frame_on(False)\n",
    "            librosa.display.specshow(D,x_axis='time', y_axis='hz')\n",
    "            plt.savefig(\"./Sliced_eko(Sets)/\"+i+'/Spectrogram/'+'Asthma/'+k[:-4]+'.jpg',dpi=400,bbox_inches = 'tight', frameon='false', pad_inches=0)\n",
    "            plt.close()\n",
    "\n",
    "        for k in tqdm(os.listdir(\"./Sliced_eko(Sets)/\"+i+'/Normal')):\n",
    "            waveform, sr = librosa.load(\"./Sliced_eko(Sets)/\"+i+'/Normal/'+k, sr = None)\n",
    "            n_fft = int(20*sr*(2*10**-3))\n",
    "            window = int(n_fft/2)\n",
    "            hop_length = int(window/2)\n",
    "            D = librosa.amplitude_to_db(np.abs(librosa.stft(waveform, n_fft = n_fft,win_length = window, hop_length = hop_length)))\n",
    "            # Plotting the spectrogram and save as JPG without axes (just the image)\n",
    "            fig = plt.figure(figsize=[1,1])\n",
    "            ax = fig.add_subplot(111)\n",
    "            ax.axes.get_xaxis().set_visible(False)\n",
    "            ax.axes.get_yaxis().set_visible(False)\n",
    "            ax.set_frame_on(False)\n",
    "            librosa.display.specshow(D,x_axis='time', y_axis='hz')\n",
    "            plt.savefig(\"./Sliced_eko(Sets)/\"+i+'/Spectrogram/'+'Normal/'+k[:-4]+'.jpg',dpi=400,bbox_inches = 'tight', frameon='false', pad_inches=0)\n",
    "            plt.close()\n",
    "    except:\n",
    "        pass\n",
    "\n",
    "        \n"
   ]
  },
  {
   "cell_type": "code",
   "execution_count": null,
   "metadata": {},
   "outputs": [],
   "source": []
  }
 ],
 "metadata": {
  "kernelspec": {
   "display_name": "Python 3",
   "language": "python",
   "name": "python3"
  },
  "language_info": {
   "codemirror_mode": {
    "name": "ipython",
    "version": 3
   },
   "file_extension": ".py",
   "mimetype": "text/x-python",
   "name": "python",
   "nbconvert_exporter": "python",
   "pygments_lexer": "ipython3",
   "version": "3.7.3"
  }
 },
 "nbformat": 4,
 "nbformat_minor": 2
}

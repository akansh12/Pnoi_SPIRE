{
 "cells": [
  {
   "cell_type": "code",
   "execution_count": 21,
   "metadata": {},
   "outputs": [],
   "source": [
    "import os\n",
    "import pandas as pd\n",
    "import numpy as np\n",
    "import json\n",
    "from scipy import stats"
   ]
  },
  {
   "cell_type": "code",
   "execution_count": 22,
   "metadata": {},
   "outputs": [],
   "source": [
    "from tqdm import tqdm "
   ]
  },
  {
   "cell_type": "code",
   "execution_count": 23,
   "metadata": {},
   "outputs": [],
   "source": [
    "def csv_gen(sound_name, mfcc_json_loc,save_loc):\n",
    "    dataframe = pd.DataFrame()\n",
    "    for i in tqdm(os.listdir(mfcc_json_loc)):\n",
    "        with open(mfcc_json_loc+i) as f:\n",
    "            data = json.load(f)\n",
    "        j = len(data[sound_name])\n",
    "        for k in range(0,j):\n",
    "            for l in range(0,len(data[sound_name][k])):\n",
    "                feature = np.array(data[sound_name][k][l])\n",
    "                mean = np.mean(feature,axis=0) \n",
    "                mean = mean.reshape(1,len(mean))\n",
    "                mode = stats.mode(feature,axis = 0)[0]\n",
    "                median = np.median(feature, axis=0)\n",
    "                median = median.reshape(1,len(median))\n",
    "\n",
    "                variance = np.var(feature, axis=0)\n",
    "                variance = variance.reshape(1,len(variance))\n",
    "\n",
    "                sd = np.std(feature,axis = 0)\n",
    "                sd = sd.reshape(1,len(sd))\n",
    "\n",
    "                rms = np.sqrt(np.mean(np.square(feature),axis=0))\n",
    "                rms = rms.reshape(1,len(rms))\n",
    "\n",
    "                big = np.concatenate((mean,median,mode,variance,sd,rms),axis = 0)\n",
    "                feature_vector = big.reshape(1,big.shape[0]*big.shape[1])\n",
    "                if i.find(\"Asthma\") != -1:\n",
    "                    feature_vector = np.append(feature_vector,1)\n",
    "                    feature_vector = np.append(feature_vector,i).reshape(1,74)\n",
    "                else:\n",
    "                    feature_vector = np.append(feature_vector,0)\n",
    "                    feature_vector = np.append(feature_vector,i).reshape(1,74)\n",
    "\n",
    "                dataframe = dataframe.append(pd.DataFrame(feature_vector))\n",
    "                dataframe.to_csv(save_loc+sound_name+\".csv\", index = False)\n",
    "            \n",
    "            \n",
    "\n",
    "            \n",
    "\n",
    "\n",
    "        \n",
    "\n"
   ]
  },
  {
   "cell_type": "code",
   "execution_count": 24,
   "metadata": {},
   "outputs": [
    {
     "name": "stderr",
     "output_type": "stream",
     "text": [
      "100%|██████████| 53/53 [09:45<00:00, 21.16s/it]\n"
     ]
    }
   ],
   "source": [
    "csv_gen(\"eko\", \"./144_MFCC_calculated//\", save_loc=\"./144_mfcc_csv/\")"
   ]
  },
  {
   "cell_type": "code",
   "execution_count": 25,
   "metadata": {},
   "outputs": [
    {
     "name": "stderr",
     "output_type": "stream",
     "text": [
      "100%|██████████| 53/53 [07:58<00:00, 20.12s/it]\n"
     ]
    }
   ],
   "source": [
    "csv_gen(\"mic\", \"./144_MFCC_calculated/\", save_loc=\"./144_mfcc_csv/\")"
   ]
  },
  {
   "cell_type": "code",
   "execution_count": null,
   "metadata": {},
   "outputs": [],
   "source": []
  },
  {
   "cell_type": "code",
   "execution_count": null,
   "metadata": {},
   "outputs": [],
   "source": []
  },
  {
   "cell_type": "code",
   "execution_count": null,
   "metadata": {},
   "outputs": [],
   "source": []
  }
 ],
 "metadata": {
  "kernelspec": {
   "display_name": "Python 3",
   "language": "python",
   "name": "python3"
  },
  "language_info": {
   "codemirror_mode": {
    "name": "ipython",
    "version": 3
   },
   "file_extension": ".py",
   "mimetype": "text/x-python",
   "name": "python",
   "nbconvert_exporter": "python",
   "pygments_lexer": "ipython3",
   "version": "3.7.3"
  }
 },
 "nbformat": 4,
 "nbformat_minor": 2
}

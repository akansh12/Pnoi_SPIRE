{
 "cells": [
  {
   "cell_type": "code",
   "execution_count": 135,
   "metadata": {},
   "outputs": [],
   "source": [
    "import pandas as pd \n",
    "import numpy as np\n",
    "import matplotlib.pyplot as plt\n",
    "import seaborn as sns\n",
    "import os\n",
    "from sklearn.svm import SVC\n",
    "from sklearn.metrics import accuracy_score\n",
    "from sklearn.model_selection import train_test_split\n",
    "from sklearn.metrics import confusion_matrix\n",
    "from sklearn.metrics import classification_report\n",
    "from sklearn.model_selection import KFold\n",
    "from sklearn.model_selection import cross_val_score\n",
    "from sklearn.model_selection import GridSearchCV\n",
    "from sklearn.model_selection import cross_validate\n",
    "from sklearn.preprocessing import StandardScaler\n",
    "from sklearn.model_selection import StratifiedShuffleSplit\n",
    "import matplotlib.pyplot as plt \n",
    "from sklearn.utils import shuffle\n",
    "import warnings\n",
    "warnings.filterwarnings('ignore')\n",
    "import sklearn.metrics"
   ]
  },
  {
   "cell_type": "code",
   "execution_count": 119,
   "metadata": {},
   "outputs": [],
   "source": [
    "from tqdm import tqdm "
   ]
  },
  {
   "cell_type": "markdown",
   "metadata": {},
   "source": [
    "### DATASET = Original + Augmented"
   ]
  },
  {
   "cell_type": "markdown",
   "metadata": {},
   "source": [
    "### MIC"
   ]
  },
  {
   "cell_type": "code",
   "execution_count": 2,
   "metadata": {},
   "outputs": [],
   "source": [
    "orig_loc = \"./Data_CSV/Experiment_W_WO_CMN/\"\n",
    "aug_loc = \"./Data_CSV/Augmneted_MFCC_data_csv/\""
   ]
  },
  {
   "cell_type": "code",
   "execution_count": 47,
   "metadata": {},
   "outputs": [],
   "source": [
    "#without CMN #original_data\n",
    "mic_all_orig_df = pd.read_csv(\"Data_CSV/Experiment_W_WO_CMN/Without_CMN_mic(16k)_all.csv\")\n",
    "mic_bld_orig_df = pd.read_csv(\"Data_CSV/Experiment_W_WO_CMN/withoutCMN(all)micB_L_D_DPB.csv\")\n",
    "mic_blt_orig_df = pd.read_csv(\"Data_CSV/Experiment_W_WO_CMN/withoutCMN(all)micB_L_T_DPB.csv\")\n",
    "mic_brd_orig_df = pd.read_csv(\"Data_CSV/Experiment_W_WO_CMN/withoutCMN(all)micB_R_D_DPB.csv\")\n",
    "mic_brt_orig_df = pd.read_csv(\"Data_CSV/Experiment_W_WO_CMN/withoutCMN(all)micB_R_T_DPB.csv\")"
   ]
  },
  {
   "cell_type": "code",
   "execution_count": 77,
   "metadata": {},
   "outputs": [
    {
     "name": "stdout",
     "output_type": "stream",
     "text": [
      "Shape: (4843, 74)\n"
     ]
    }
   ],
   "source": [
    "print(f\"Shape: {mic_all_orig_df.shape}\")\n",
    "# mic_all_orig_df.head(5)"
   ]
  },
  {
   "cell_type": "markdown",
   "metadata": {},
   "source": [
    "#### Augmented Data"
   ]
  },
  {
   "cell_type": "code",
   "execution_count": 7,
   "metadata": {},
   "outputs": [],
   "source": [
    "mic_bld_aug_df = pd.read_csv(\"./Data_CSV/Augmneted_MFCC_data_csv/micB_L_D_DPB.csv\")\n",
    "mic_blt_aug_df = pd.read_csv(\"./Data_CSV/Augmneted_MFCC_data_csv/micB_L_T_DPB.csv\")\n",
    "mic_brd_aug_df = pd.read_csv(\"./Data_CSV/Augmneted_MFCC_data_csv/micB_R_D_DPB.csv\")\n",
    "mic_brt_aug_df = pd.read_csv(\"./Data_CSV/Augmneted_MFCC_data_csv/micB_R_T_DPB.csv\")\n",
    "mic_all_aug_df = pd.concat([mic_bld_aug_df,mic_blt_aug_df,mic_brd_aug_df,mic_brt_aug_df])"
   ]
  },
  {
   "cell_type": "code",
   "execution_count": 80,
   "metadata": {},
   "outputs": [
    {
     "data": {
      "text/plain": [
       "(14514, 74)"
      ]
     },
     "execution_count": 80,
     "metadata": {},
     "output_type": "execute_result"
    }
   ],
   "source": [
    "mic_all_aug_df.shape"
   ]
  },
  {
   "cell_type": "code",
   "execution_count": 143,
   "metadata": {},
   "outputs": [],
   "source": [
    "#fold\n",
    "def fold(sound_dataframe, sets_loc, fold_type):\n",
    "    big = []\n",
    "    for j in os.listdir(sets_loc):      \n",
    "\n",
    "        file = open(sets_loc+j, 'r') \n",
    "        Lines = file.readlines() \n",
    "\n",
    "        count = 0\n",
    "        # Strips the newline character \n",
    "        # for line in Lines: \n",
    "        #     print(\"Line{}: {}\".format(count, line.strip())) \n",
    "        try:\n",
    "            set_dataframe = pd.DataFrame()\n",
    "            for i, line in enumerate(Lines):\n",
    "                if fold_type == 'original':\n",
    "                    A = sound_dataframe[(sound_dataframe['73'] == (Lines[i].strip()+\".json\"))]\n",
    "                else:\n",
    "                    A = sound_dataframe[(sound_dataframe['73'] == (\"Aug\"+Lines[i].strip()+\".json\"))]\n",
    "                set_dataframe = pd.DataFrame.append(set_dataframe,A)\n",
    "        except:\n",
    "            pass\n",
    "            \n",
    "        \n",
    "        big.append(set_dataframe)\n",
    "    fold_1 = shuffle(pd.concat(big[:6]))\n",
    "    test_1 = shuffle(big[6])\n",
    "    fold_2 = shuffle(pd.concat(big[1:7]))\n",
    "    test_2 = shuffle(big[0])\n",
    "    fold_3 = shuffle(pd.concat([big[0],big[2],big[3],big[4], big[5], big[6]]))\n",
    "    test_3 = shuffle(big[1])\n",
    "    fold_4 = shuffle(pd.concat([big[0],big[1],big[3],big[4], big[5], big[6]]))\n",
    "    test_4 = shuffle(big[2])\n",
    "    fold_5 = shuffle(pd.concat([big[0],big[2],big[1],big[4], big[5], big[6]]))\n",
    "    test_5 = shuffle(big[3])\n",
    "    fold_6 = shuffle(pd.concat([big[0],big[2],big[1],big[3], big[5], big[6]]))\n",
    "    test_6 = shuffle(big[4])\n",
    "    fold_7 = shuffle(pd.concat([big[0],big[2],big[1],big[4], big[3], big[6]]))\n",
    "    test_7 = shuffle(big[5])\n",
    "    \n",
    "    return fold_1,test_1,fold_2,test_2,fold_3,test_3,fold_4,test_4,fold_5,test_5, fold_6, test_6, fold_7,test_7"
   ]
  },
  {
   "cell_type": "code",
   "execution_count": 146,
   "metadata": {},
   "outputs": [],
   "source": [
    "f1,t1,f2,t2,f3,t3,f4,t4,f5,t5,f6,t6,f7,t7 = fold(mic_all_orig_df, './Sets/', 'original')\n",
    "f1_aug,t1_aug,f2_aug,t2_aug,f3_aug,t3_aug,f4_aug,t4_aug,f5_aug,t5_aug,f6_aug,t6_aug,f7_aug,t7_aug = fold(mic_all_aug_df, './Sets/', 'augmented')\n"
   ]
  },
  {
   "cell_type": "code",
   "execution_count": 147,
   "metadata": {},
   "outputs": [],
   "source": [
    "fold_list = [shuffle(pd.concat([f1,f1_aug])),t1,shuffle(pd.concat([f2,f2_aug])),t2,shuffle(pd.concat([f3,f3_aug])),t3,shuffle(pd.concat([f4,f4_aug])),t4,shuffle(pd.concat([f5,f5_aug])),t5,shuffle(pd.concat([f6,f6_aug])),t6,shuffle(pd.concat([f7,f7_aug])),t7 ]"
   ]
  },
  {
   "cell_type": "code",
   "execution_count": 148,
   "metadata": {},
   "outputs": [],
   "source": [
    "def SVM(fold_list):\n",
    "    list_train = []\n",
    "    list_test = []\n",
    "    for i in tqdm(range(0,len(fold_list),2)):\n",
    "        fold = fold_list[i]\n",
    "        test = fold_list[i+1]\n",
    "        X_train = fold.iloc[:,:72]\n",
    "        y_train = fold.iloc[:,72]\n",
    "        X_test = test.iloc[:,:72]\n",
    "        y_test = test.iloc[:,72]\n",
    "\n",
    "        scaler = StandardScaler()\n",
    "\n",
    "        X_train = scaler.fit_transform(X_train)\n",
    "\n",
    "        X_test = scaler.transform(X_test)\n",
    "\n",
    "        X_train = pd.DataFrame(X_train)\n",
    "        X_test = pd.DataFrame(X_test)\n",
    "\n",
    "\n",
    "        ### SVM\n",
    "\n",
    "        svm = SVC()\n",
    "\n",
    "        svm.fit(X_train,y_train)\n",
    "\n",
    "        list_test.append(accuracy_score(y_test,svm.predict(X_test)))\n",
    "\n",
    "        list_train.append(accuracy_score(y_train,svm.predict(X_train)))\n",
    "        \n",
    "    return list_test, list_train"
   ]
  },
  {
   "cell_type": "code",
   "execution_count": 149,
   "metadata": {},
   "outputs": [
    {
     "name": "stderr",
     "output_type": "stream",
     "text": [
      "100%|██████████| 7/7 [01:47<00:00, 15.59s/it]\n"
     ]
    }
   ],
   "source": [
    "test, train = SVM(fold_list)"
   ]
  },
  {
   "cell_type": "code",
   "execution_count": 150,
   "metadata": {},
   "outputs": [],
   "source": [
    "test.append(np.mean(test))\n",
    "test.append(np.std(test[:7]))\n",
    "\n",
    "train.append(np.mean(train))\n",
    "train.append(np.std(train[:7]))"
   ]
  },
  {
   "cell_type": "code",
   "execution_count": 151,
   "metadata": {},
   "outputs": [
    {
     "data": {
      "text/html": [
       "<div>\n",
       "<style scoped>\n",
       "    .dataframe tbody tr th:only-of-type {\n",
       "        vertical-align: middle;\n",
       "    }\n",
       "\n",
       "    .dataframe tbody tr th {\n",
       "        vertical-align: top;\n",
       "    }\n",
       "\n",
       "    .dataframe thead th {\n",
       "        text-align: right;\n",
       "    }\n",
       "</style>\n",
       "<table border=\"1\" class=\"dataframe\">\n",
       "  <thead>\n",
       "    <tr style=\"text-align: right;\">\n",
       "      <th></th>\n",
       "      <th>Train</th>\n",
       "      <th>Test</th>\n",
       "    </tr>\n",
       "  </thead>\n",
       "  <tbody>\n",
       "    <tr>\n",
       "      <th>Fold1</th>\n",
       "      <td>0.987673</td>\n",
       "      <td>0.390995</td>\n",
       "    </tr>\n",
       "    <tr>\n",
       "      <th>Fold2</th>\n",
       "      <td>0.990158</td>\n",
       "      <td>0.565093</td>\n",
       "    </tr>\n",
       "    <tr>\n",
       "      <th>Fold3</th>\n",
       "      <td>0.986931</td>\n",
       "      <td>0.606476</td>\n",
       "    </tr>\n",
       "    <tr>\n",
       "      <th>Fold4</th>\n",
       "      <td>0.986963</td>\n",
       "      <td>0.491409</td>\n",
       "    </tr>\n",
       "    <tr>\n",
       "      <th>Fold5</th>\n",
       "      <td>0.987394</td>\n",
       "      <td>0.573569</td>\n",
       "    </tr>\n",
       "    <tr>\n",
       "      <th>Fold6</th>\n",
       "      <td>0.990641</td>\n",
       "      <td>0.359375</td>\n",
       "    </tr>\n",
       "    <tr>\n",
       "      <th>Fold7</th>\n",
       "      <td>0.988380</td>\n",
       "      <td>0.672646</td>\n",
       "    </tr>\n",
       "    <tr>\n",
       "      <th>Mean</th>\n",
       "      <td>0.988306</td>\n",
       "      <td>0.522795</td>\n",
       "    </tr>\n",
       "    <tr>\n",
       "      <th>STD</th>\n",
       "      <td>0.001405</td>\n",
       "      <td>0.106158</td>\n",
       "    </tr>\n",
       "  </tbody>\n",
       "</table>\n",
       "</div>"
      ],
      "text/plain": [
       "          Train      Test\n",
       "Fold1  0.987673  0.390995\n",
       "Fold2  0.990158  0.565093\n",
       "Fold3  0.986931  0.606476\n",
       "Fold4  0.986963  0.491409\n",
       "Fold5  0.987394  0.573569\n",
       "Fold6  0.990641  0.359375\n",
       "Fold7  0.988380  0.672646\n",
       "Mean   0.988306  0.522795\n",
       "STD    0.001405  0.106158"
      ]
     },
     "execution_count": 151,
     "metadata": {},
     "output_type": "execute_result"
    }
   ],
   "source": [
    "pd.DataFrame(np.concatenate((np.array(train).reshape(9,1), np.array(test).reshape(9,1)), axis = 1), index=['Fold1','Fold2','Fold3','Fold4','Fold5','Fold6','Fold7', 'Mean', 'STD'], columns=['Train', 'Test'])"
   ]
  },
  {
   "cell_type": "code",
   "execution_count": null,
   "metadata": {},
   "outputs": [],
   "source": []
  },
  {
   "cell_type": "markdown",
   "metadata": {},
   "source": [
    "### EKO"
   ]
  },
  {
   "cell_type": "code",
   "execution_count": 153,
   "metadata": {},
   "outputs": [],
   "source": [
    "#without CMN #original_data\n",
    "eko_all_orig_df  = pd.read_csv(\"Data_CSV/Experiment_W_WO_CMN/Without_CMN_eko_all.csv\")\n",
    "eko_bld_orig_df  = pd.read_csv(\"Data_CSV/Experiment_W_WO_CMN/withoutCMN(all)ekoB_L_D_DPB.csv\")\n",
    "eko_blt_orig_df  = pd.read_csv(\"Data_CSV/Experiment_W_WO_CMN/withoutCMN(all)ekoB_L_T_DPB.csv\")\n",
    "eko_brd_orig_df  = pd.read_csv(\"Data_CSV/Experiment_W_WO_CMN/withoutCMN(all)ekoB_R_D_DPB.csv\")\n",
    "eko_brt_orig_df  = pd.read_csv(\"Data_CSV/Experiment_W_WO_CMN/withoutCMN(all)ekoB_R_T_DPB.csv\")\n",
    "eko_bld_aug_df   = pd.read_csv(\"./Data_CSV/Augmneted_MFCC_data_csv/ekoB_L_D_DPB.csv\")\n",
    "eko_blt_aug_df   = pd.read_csv(\"./Data_CSV/Augmneted_MFCC_data_csv/ekoB_L_T_DPB.csv\")\n",
    "eko_brd_aug_df   = pd.read_csv(\"./Data_CSV/Augmneted_MFCC_data_csv/ekoB_R_D_DPB.csv\")\n",
    "eko_brt_aug_df   = pd.read_csv(\"./Data_CSV/Augmneted_MFCC_data_csv/ekoB_R_T_DPB.csv\")\n",
    "eko_all_aug_df   = pd.concat([eko_bld_aug_df,eko_blt_aug_df,eko_brd_aug_df,eko_brt_aug_df]) "
   ]
  },
  {
   "cell_type": "code",
   "execution_count": 154,
   "metadata": {},
   "outputs": [],
   "source": [
    "f1,t1,f2,t2,f3,t3,f4,t4,f5,t5,f6,t6,f7,t7 = fold(eko_all_orig_df, './Sets/', 'original')\n",
    "f1_aug,t1_aug,f2_aug,t2_aug,f3_aug,t3_aug,f4_aug,t4_aug,f5_aug,t5_aug,f6_aug,t6_aug,f7_aug,t7_aug = fold(eko_all_aug_df, './Sets/', 'augmented')\n"
   ]
  },
  {
   "cell_type": "code",
   "execution_count": 155,
   "metadata": {},
   "outputs": [],
   "source": [
    "fold_list = [shuffle(pd.concat([f1,f1_aug])),t1,shuffle(pd.concat([f2,f2_aug])),t2,shuffle(pd.concat([f3,f3_aug])),t3,shuffle(pd.concat([f4,f4_aug])),t4,shuffle(pd.concat([f5,f5_aug])),t5,shuffle(pd.concat([f6,f6_aug])),t6,shuffle(pd.concat([f7,f7_aug])),t7 ]"
   ]
  },
  {
   "cell_type": "code",
   "execution_count": 156,
   "metadata": {},
   "outputs": [
    {
     "name": "stderr",
     "output_type": "stream",
     "text": [
      "100%|██████████| 7/7 [00:51<00:00,  7.44s/it]\n"
     ]
    }
   ],
   "source": [
    "test_eko, train_eko = SVM(fold_list)"
   ]
  },
  {
   "cell_type": "code",
   "execution_count": 157,
   "metadata": {},
   "outputs": [],
   "source": [
    "test_eko.append(np.mean(test_eko))\n",
    "test_eko.append(np.std(test_eko[:7]))\n",
    "\n",
    "train_eko.append(np.mean(train_eko))\n",
    "train_eko.append(np.std(train_eko[:7]))"
   ]
  },
  {
   "cell_type": "code",
   "execution_count": 159,
   "metadata": {},
   "outputs": [
    {
     "data": {
      "text/html": [
       "<div>\n",
       "<style scoped>\n",
       "    .dataframe tbody tr th:only-of-type {\n",
       "        vertical-align: middle;\n",
       "    }\n",
       "\n",
       "    .dataframe tbody tr th {\n",
       "        vertical-align: top;\n",
       "    }\n",
       "\n",
       "    .dataframe thead th {\n",
       "        text-align: right;\n",
       "    }\n",
       "</style>\n",
       "<table border=\"1\" class=\"dataframe\">\n",
       "  <thead>\n",
       "    <tr style=\"text-align: right;\">\n",
       "      <th></th>\n",
       "      <th>Train</th>\n",
       "      <th>Test</th>\n",
       "    </tr>\n",
       "  </thead>\n",
       "  <tbody>\n",
       "    <tr>\n",
       "      <th>Fold1</th>\n",
       "      <td>0.902790</td>\n",
       "      <td>0.560427</td>\n",
       "    </tr>\n",
       "    <tr>\n",
       "      <th>Fold2</th>\n",
       "      <td>0.902934</td>\n",
       "      <td>0.596567</td>\n",
       "    </tr>\n",
       "    <tr>\n",
       "      <th>Fold3</th>\n",
       "      <td>0.901176</td>\n",
       "      <td>0.485679</td>\n",
       "    </tr>\n",
       "    <tr>\n",
       "      <th>Fold4</th>\n",
       "      <td>0.903252</td>\n",
       "      <td>0.678694</td>\n",
       "    </tr>\n",
       "    <tr>\n",
       "      <th>Fold5</th>\n",
       "      <td>0.894314</td>\n",
       "      <td>0.678474</td>\n",
       "    </tr>\n",
       "    <tr>\n",
       "      <th>Fold6</th>\n",
       "      <td>0.916022</td>\n",
       "      <td>0.523438</td>\n",
       "    </tr>\n",
       "    <tr>\n",
       "      <th>Fold7</th>\n",
       "      <td>0.905726</td>\n",
       "      <td>0.626308</td>\n",
       "    </tr>\n",
       "    <tr>\n",
       "      <th>Mean</th>\n",
       "      <td>0.903745</td>\n",
       "      <td>0.592798</td>\n",
       "    </tr>\n",
       "    <tr>\n",
       "      <th>STD</th>\n",
       "      <td>0.006000</td>\n",
       "      <td>0.068857</td>\n",
       "    </tr>\n",
       "  </tbody>\n",
       "</table>\n",
       "</div>"
      ],
      "text/plain": [
       "          Train      Test\n",
       "Fold1  0.902790  0.560427\n",
       "Fold2  0.902934  0.596567\n",
       "Fold3  0.901176  0.485679\n",
       "Fold4  0.903252  0.678694\n",
       "Fold5  0.894314  0.678474\n",
       "Fold6  0.916022  0.523438\n",
       "Fold7  0.905726  0.626308\n",
       "Mean   0.903745  0.592798\n",
       "STD    0.006000  0.068857"
      ]
     },
     "execution_count": 159,
     "metadata": {},
     "output_type": "execute_result"
    }
   ],
   "source": [
    "pd.DataFrame(np.concatenate((np.array(train_eko).reshape(9,1), np.array(test_eko).reshape(9,1)), axis = 1), index=['Fold1','Fold2','Fold3','Fold4','Fold5','Fold6','Fold7', 'Mean', 'STD'], columns=['Train', 'Test'])"
   ]
  },
  {
   "cell_type": "markdown",
   "metadata": {},
   "source": [
    "### BRT_eko"
   ]
  },
  {
   "cell_type": "code",
   "execution_count": 160,
   "metadata": {},
   "outputs": [],
   "source": [
    "f1,t1,f2,t2,f3,t3,f4,t4,f5,t5,f6,t6,f7,t7 = fold(eko_brt_orig_df, './Sets/', 'original')\n",
    "f1_aug,t1_aug,f2_aug,t2_aug,f3_aug,t3_aug,f4_aug,t4_aug,f5_aug,t5_aug,f6_aug,t6_aug,f7_aug,t7_aug = fold(eko_brt_aug_df, './Sets/', 'augmented')\n"
   ]
  },
  {
   "cell_type": "code",
   "execution_count": 164,
   "metadata": {},
   "outputs": [],
   "source": [
    "fold_list = [shuffle(pd.concat([f1,f1_aug])),t1,shuffle(pd.concat([f2,f2_aug])),t2,shuffle(pd.concat([f3,f3_aug])),t3,shuffle(pd.concat([f4,f4_aug])),t4,shuffle(pd.concat([f5,f5_aug])),t5,shuffle(pd.concat([f6,f6_aug])),t6,shuffle(pd.concat([f7,f7_aug])),t7 ]"
   ]
  },
  {
   "cell_type": "code",
   "execution_count": 165,
   "metadata": {},
   "outputs": [
    {
     "name": "stderr",
     "output_type": "stream",
     "text": [
      "100%|██████████| 7/7 [00:02<00:00,  2.31it/s]\n"
     ]
    },
    {
     "data": {
      "text/html": [
       "<div>\n",
       "<style scoped>\n",
       "    .dataframe tbody tr th:only-of-type {\n",
       "        vertical-align: middle;\n",
       "    }\n",
       "\n",
       "    .dataframe tbody tr th {\n",
       "        vertical-align: top;\n",
       "    }\n",
       "\n",
       "    .dataframe thead th {\n",
       "        text-align: right;\n",
       "    }\n",
       "</style>\n",
       "<table border=\"1\" class=\"dataframe\">\n",
       "  <thead>\n",
       "    <tr style=\"text-align: right;\">\n",
       "      <th></th>\n",
       "      <th>Train</th>\n",
       "      <th>Test</th>\n",
       "    </tr>\n",
       "  </thead>\n",
       "  <tbody>\n",
       "    <tr>\n",
       "      <th>Fold1</th>\n",
       "      <td>0.947938</td>\n",
       "      <td>0.604348</td>\n",
       "    </tr>\n",
       "    <tr>\n",
       "      <th>Fold2</th>\n",
       "      <td>0.933598</td>\n",
       "      <td>0.738220</td>\n",
       "    </tr>\n",
       "    <tr>\n",
       "      <th>Fold3</th>\n",
       "      <td>0.933943</td>\n",
       "      <td>0.648148</td>\n",
       "    </tr>\n",
       "    <tr>\n",
       "      <th>Fold4</th>\n",
       "      <td>0.938086</td>\n",
       "      <td>0.589552</td>\n",
       "    </tr>\n",
       "    <tr>\n",
       "      <th>Fold5</th>\n",
       "      <td>0.927481</td>\n",
       "      <td>0.598684</td>\n",
       "    </tr>\n",
       "    <tr>\n",
       "      <th>Fold6</th>\n",
       "      <td>0.943773</td>\n",
       "      <td>0.653226</td>\n",
       "    </tr>\n",
       "    <tr>\n",
       "      <th>Fold7</th>\n",
       "      <td>0.936008</td>\n",
       "      <td>0.673203</td>\n",
       "    </tr>\n",
       "    <tr>\n",
       "      <th>Mean</th>\n",
       "      <td>0.937261</td>\n",
       "      <td>0.643626</td>\n",
       "    </tr>\n",
       "    <tr>\n",
       "      <th>STD</th>\n",
       "      <td>0.006310</td>\n",
       "      <td>0.048435</td>\n",
       "    </tr>\n",
       "  </tbody>\n",
       "</table>\n",
       "</div>"
      ],
      "text/plain": [
       "          Train      Test\n",
       "Fold1  0.947938  0.604348\n",
       "Fold2  0.933598  0.738220\n",
       "Fold3  0.933943  0.648148\n",
       "Fold4  0.938086  0.589552\n",
       "Fold5  0.927481  0.598684\n",
       "Fold6  0.943773  0.653226\n",
       "Fold7  0.936008  0.673203\n",
       "Mean   0.937261  0.643626\n",
       "STD    0.006310  0.048435"
      ]
     },
     "execution_count": 165,
     "metadata": {},
     "output_type": "execute_result"
    }
   ],
   "source": [
    "test, train = SVM(fold_list)\n",
    "test.append(np.mean(test))\n",
    "test.append(np.std(test[:7]))\n",
    "\n",
    "train.append(np.mean(train))\n",
    "train.append(np.std(train[:7]))\n",
    "pd.DataFrame(np.concatenate((np.array(train).reshape(9,1), np.array(test).reshape(9,1)), axis = 1), index=['Fold1','Fold2','Fold3','Fold4','Fold5','Fold6','Fold7', 'Mean', 'STD'], columns=['Train', 'Test'])"
   ]
  },
  {
   "cell_type": "code",
   "execution_count": null,
   "metadata": {},
   "outputs": [],
   "source": []
  }
 ],
 "metadata": {
  "kernelspec": {
   "display_name": "Python 3",
   "language": "python",
   "name": "python3"
  },
  "language_info": {
   "codemirror_mode": {
    "name": "ipython",
    "version": 3
   },
   "file_extension": ".py",
   "mimetype": "text/x-python",
   "name": "python",
   "nbconvert_exporter": "python",
   "pygments_lexer": "ipython3",
   "version": "3.7.3"
  }
 },
 "nbformat": 4,
 "nbformat_minor": 2
}

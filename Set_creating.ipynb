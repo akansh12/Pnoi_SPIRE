{
 "cells": [
  {
   "cell_type": "code",
   "execution_count": 1,
   "metadata": {},
   "outputs": [],
   "source": [
    "import numpy as np\n",
    "import pandas as pd\n",
    "import os"
   ]
  },
  {
   "cell_type": "code",
   "execution_count": 37,
   "metadata": {},
   "outputs": [],
   "source": [
    "Asthma = []\n",
    "Healthy = []\n",
    "for i in os.listdir(\"./\"):\n",
    "    if i.find(\"sthma\") != -1:\n",
    "        Asthma.append(i)\n",
    "    if i.find(\"_HC_\") != -1:\n",
    "        Healthy.append(i)\n",
    "        "
   ]
  },
  {
   "cell_type": "code",
   "execution_count": 64,
   "metadata": {},
   "outputs": [],
   "source": [
    "Asthma = np.array(Asthma, dtype = str)\n",
    "Healthy = np.array(Healthy, dtype = str)"
   ]
  },
  {
   "cell_type": "code",
   "execution_count": 79,
   "metadata": {},
   "outputs": [],
   "source": [
    "Set_1 = np.concatenate((Asthma[:3], Healthy[:4]))\n",
    "pd.DataFrame(Set_1).to_csv('./Set_1.txt', index=None, header=None)\n",
    "Set_2 = np.concatenate((Asthma[3:6], Healthy[4:8]))\n",
    "pd.DataFrame(Set_2).to_csv('./Set_2.txt', index=None, header=None)\n",
    "Set_3 = np.concatenate((Asthma[6:9], Healthy[8:12]))\n",
    "pd.DataFrame(Set_3).to_csv('./Set_3.txt', index=None, header=None)\n",
    "Set_4 = np.concatenate((Asthma[9:13], Healthy[12:16]))\n",
    "pd.DataFrame(Set_4).to_csv('./Set_4.txt', index=None, header=None)\n",
    "Set_5 = np.concatenate((Asthma[13:17], Healthy[16:20]))\n",
    "pd.DataFrame(Set_5).to_csv('./Set_5.txt', index=None, header=None)\n",
    "Set_6 = np.concatenate((Asthma[17:21], Healthy[20:24]))\n",
    "pd.DataFrame(Set_6).to_csv('./Set_6.txt', index=None, header=None)\n",
    "Set_7 = np.concatenate((Asthma[21:25], Healthy[24:28]))\n",
    "pd.DataFrame(Set_7).to_csv('./Set_7.txt', index=None, header=None)\n"
   ]
  },
  {
   "cell_type": "code",
   "execution_count": 78,
   "metadata": {},
   "outputs": [],
   "source": [
    "\n"
   ]
  },
  {
   "cell_type": "code",
   "execution_count": 77,
   "metadata": {},
   "outputs": [
    {
     "data": {
      "text/plain": [
       "array(['2019_10_11_Puneeth_M_15_160_45_Y_Asthma_post',\n",
       "       '2019_11_21_Fazil_M_32_171_61_Y_Asthma_pre',\n",
       "       '2019_11_07_Shivamma_F_34_150_44_Y_Asthma_post',\n",
       "       '2019_11_13_Rukmini_F_58_152_60_N_HC_NA',\n",
       "       '2019_11_06_SatishKR_M_34_168_67_N_HC_NA',\n",
       "       '2019_11_15_Leela_F_56_155_53_N_HC_NA',\n",
       "       '2019_10_11_Bharathi_F_36_162_75_N_HC_NA'], dtype='<U55')"
      ]
     },
     "execution_count": 77,
     "metadata": {},
     "output_type": "execute_result"
    }
   ],
   "source": [
    "Set_1"
   ]
  },
  {
   "cell_type": "code",
   "execution_count": 58,
   "metadata": {},
   "outputs": [
    {
     "data": {
      "text/plain": [
       "array(['2019_10_11_Puneeth_M_15_160_45_Y_Asthma_post',\n",
       "       '2019_11_21_Fazil_M_32_171_61_Y_Asthma_pre',\n",
       "       '2019_11_07_Shivamma_F_34_150_44_Y_Asthma_post'], dtype='<U55')"
      ]
     },
     "execution_count": 58,
     "metadata": {},
     "output_type": "execute_result"
    }
   ],
   "source": [
    "Asthma[:3]"
   ]
  },
  {
   "cell_type": "code",
   "execution_count": 61,
   "metadata": {},
   "outputs": [
    {
     "data": {
      "text/plain": [
       "array(['2019_11_15_Sharon_F_23_151_51_Y_Asthma_pre',\n",
       "       '2019_12_18_Meghanapriya_F_37_157_87_Y_Asthma_post',\n",
       "       '2019_12_13_SabiaKhatun_F_48_147_57_Y_Asthma_post'], dtype='<U55')"
      ]
     },
     "execution_count": 61,
     "metadata": {},
     "output_type": "execute_result"
    }
   ],
   "source": [
    "Asthma[3:6]"
   ]
  },
  {
   "cell_type": "code",
   "execution_count": 39,
   "metadata": {},
   "outputs": [
    {
     "data": {
      "text/plain": [
       "28"
      ]
     },
     "execution_count": 39,
     "metadata": {},
     "output_type": "execute_result"
    }
   ],
   "source": [
    "len(Healthy)"
   ]
  },
  {
   "cell_type": "code",
   "execution_count": null,
   "metadata": {},
   "outputs": [],
   "source": [
    "28"
   ]
  }
 ],
 "metadata": {
  "kernelspec": {
   "display_name": "Python 3",
   "language": "python",
   "name": "python3"
  },
  "language_info": {
   "codemirror_mode": {
    "name": "ipython",
    "version": 3
   },
   "file_extension": ".py",
   "mimetype": "text/x-python",
   "name": "python",
   "nbconvert_exporter": "python",
   "pygments_lexer": "ipython3",
   "version": "3.7.3"
  }
 },
 "nbformat": 4,
 "nbformat_minor": 2
}
